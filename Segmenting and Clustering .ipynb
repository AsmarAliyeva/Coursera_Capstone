{
    "nbformat_minor": 1, 
    "cells": [
        {
            "source": "import pandas as pd # library for data analsysis\nimport numpy as np # library to handle data in a vectorized manner", 
            "cell_type": "code", 
            "execution_count": 1, 
            "outputs": [], 
            "metadata": {}
        }, 
        {
            "source": "!pip install beautifulsoup4\n!pip install lxml\n!pip install html5lib", 
            "cell_type": "code", 
            "execution_count": 8, 
            "outputs": [
                {
                    "output_type": "stream", 
                    "name": "stdout", 
                    "text": "Requirement already satisfied: beautifulsoup4 in /opt/conda/envs/Python36/lib/python3.6/site-packages (4.7.1)\nRequirement already satisfied: soupsieve>=1.2 in /opt/conda/envs/Python36/lib/python3.6/site-packages (from beautifulsoup4) (1.7.1)\nRequirement already satisfied: lxml in /opt/conda/envs/Python36/lib/python3.6/site-packages (4.3.1)\nRequirement already satisfied: html5lib in /opt/conda/envs/Python36/lib/python3.6/site-packages (1.0.1)\nRequirement already satisfied: six>=1.9 in /opt/conda/envs/Python36/lib/python3.6/site-packages (from html5lib) (1.12.0)\nRequirement already satisfied: webencodings in /opt/conda/envs/Python36/lib/python3.6/site-packages (from html5lib) (0.5.1)\n"
                }
            ], 
            "metadata": {}
        }, 
        {
            "source": "import requests \nfrom bs4 import BeautifulSoup ", 
            "cell_type": "code", 
            "execution_count": 161, 
            "outputs": [], 
            "metadata": {}
        }, 
        {
            "source": "page = requests.get('https://en.wikipedia.org/wiki/List_of_postal_codes_of_Canada:_M')\ncontents = page.content\n", 
            "cell_type": "code", 
            "execution_count": 162, 
            "outputs": [], 
            "metadata": {}
        }, 
        {
            "source": "soup = BeautifulSoup(contents, 'lxml') #used BeautifulSoup to retrieve the data form wikipedia\nlinks =soup.find_all(\"a\")\n", 
            "cell_type": "code", 
            "execution_count": 163, 
            "outputs": [], 
            "metadata": {
                "scrolled": false
            }
        }, 
        {
            "source": "# by using soup i selected all the tables and chose the first table (the one that i need)\n\na = soup.find_all(\"table\")[0] \ndata = pd.read_html(str(a))\ndf = data[0]\n\nprint(df.shape)\nprint(df.head())\n", 
            "cell_type": "code", 
            "execution_count": 164, 
            "outputs": [
                {
                    "output_type": "stream", 
                    "name": "stdout", 
                    "text": "(288, 3)\n  Postcode           Borough     Neighbourhood\n0      M1A      Not assigned      Not assigned\n1      M2A      Not assigned      Not assigned\n2      M3A        North York         Parkwoods\n3      M4A        North York  Victoria Village\n4      M5A  Downtown Toronto      Harbourfront\n"
                }
            ], 
            "metadata": {}
        }, 
        {
            "source": "# i got rid of the rows where Borough = Not assigned \n\ndf=df[df.Borough != 'Not assigned']\ndf = df.sort_values(by=['Postcode','Borough'])\n\ndf.reset_index(inplace=True)\ndf.drop('index',axis=1,inplace=True)\n\nprint(df.shape)\nprint(df.head())", 
            "cell_type": "code", 
            "execution_count": 165, 
            "outputs": [
                {
                    "output_type": "stream", 
                    "name": "stdout", 
                    "text": "(211, 3)\n  Postcode      Borough   Neighbourhood\n0      M1B  Scarborough           Rouge\n1      M1B  Scarborough         Malvern\n2      M1C  Scarborough  Highland Creek\n3      M1C  Scarborough      Rouge Hill\n4      M1C  Scarborough      Port Union\n"
                }
            ], 
            "metadata": {}
        }, 
        {
            "source": "# here i combined the Neighborhoods with the same Postal\n\ndfNew = df.groupby(['Postcode', 'Borough'], sort=False).agg( ','.join)\ndfNew = dfNew.groupby(['Postcode','Borough'])['Neighbourhood'].apply(list)\ndfNew = dfNew.sample(frac=1).reset_index()\ndfNew['Neighbourhood']= dfNew['Neighbourhood'].str.join(', ')\n", 
            "cell_type": "code", 
            "execution_count": 179, 
            "outputs": [], 
            "metadata": {}
        }, 
        {
            "source": "# here i replace the Neighbourhood = Not assigned with corresponding Borough value\n\ndfNew['Neighbourhood'].loc[dfNew['Neighbourhood'] == 'Not assigned'] = dfNew['Borough']\n", 
            "cell_type": "code", 
            "execution_count": 177, 
            "outputs": [], 
            "metadata": {}
        }, 
        {
            "source": "dfNew.shape", 
            "cell_type": "code", 
            "execution_count": 180, 
            "outputs": [
                {
                    "output_type": "execute_result", 
                    "metadata": {}, 
                    "data": {
                        "text/plain": "(103, 3)"
                    }, 
                    "execution_count": 180
                }
            ], 
            "metadata": {}
        }, 
        {
            "source": "", 
            "cell_type": "code", 
            "execution_count": null, 
            "outputs": [], 
            "metadata": {}
        }
    ], 
    "nbformat": 4, 
    "metadata": {
        "kernelspec": {
            "display_name": "Python 3.6", 
            "name": "python3", 
            "language": "python"
        }, 
        "language_info": {
            "mimetype": "text/x-python", 
            "nbconvert_exporter": "python", 
            "version": "3.6.8", 
            "name": "python", 
            "pygments_lexer": "ipython3", 
            "file_extension": ".py", 
            "codemirror_mode": {
                "version": 3, 
                "name": "ipython"
            }
        }
    }
}