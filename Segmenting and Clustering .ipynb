{
    "nbformat_minor": 1, 
    "cells": [
        {
            "source": "import pandas as pd # library for data analsysis\nimport numpy as np # library to handle data in a vectorized manner", 
            "cell_type": "code", 
            "execution_count": 1, 
            "outputs": [], 
            "metadata": {}
        }, 
        {
            "source": "!pip install beautifulsoup4\n!pip install lxml\n!pip install html5lib", 
            "cell_type": "code", 
            "execution_count": 8, 
            "outputs": [
                {
                    "output_type": "stream", 
                    "name": "stdout", 
                    "text": "Requirement already satisfied: beautifulsoup4 in /opt/conda/envs/Python36/lib/python3.6/site-packages (4.7.1)\nRequirement already satisfied: soupsieve>=1.2 in /opt/conda/envs/Python36/lib/python3.6/site-packages (from beautifulsoup4) (1.7.1)\nRequirement already satisfied: lxml in /opt/conda/envs/Python36/lib/python3.6/site-packages (4.3.1)\nRequirement already satisfied: html5lib in /opt/conda/envs/Python36/lib/python3.6/site-packages (1.0.1)\nRequirement already satisfied: six>=1.9 in /opt/conda/envs/Python36/lib/python3.6/site-packages (from html5lib) (1.12.0)\nRequirement already satisfied: webencodings in /opt/conda/envs/Python36/lib/python3.6/site-packages (from html5lib) (0.5.1)\n"
                }
            ], 
            "metadata": {}
        }, 
        {
            "source": "import requests \nfrom bs4 import BeautifulSoup ", 
            "cell_type": "code", 
            "execution_count": 161, 
            "outputs": [], 
            "metadata": {}
        }, 
        {
            "source": "page = requests.get('https://en.wikipedia.org/wiki/List_of_postal_codes_of_Canada:_M')\ncontents = page.content\n", 
            "cell_type": "code", 
            "execution_count": 162, 
            "outputs": [], 
            "metadata": {}
        }, 
        {
            "source": "soup = BeautifulSoup(contents, 'lxml') #used BeautifulSoup to retrieve the data form wikipedia\nlinks =soup.find_all(\"a\")\n", 
            "cell_type": "code", 
            "execution_count": 163, 
            "outputs": [], 
            "metadata": {
                "scrolled": false
            }
        }, 
        {
            "source": "# by using soup i selected all the tables and chose the first table (the one that i need)\n\na = soup.find_all(\"table\")[0] \ndata = pd.read_html(str(a))\ndf = data[0]\n\nprint(df.shape)\nprint(df.head())\n", 
            "cell_type": "code", 
            "execution_count": 164, 
            "outputs": [
                {
                    "output_type": "stream", 
                    "name": "stdout", 
                    "text": "(288, 3)\n  Postcode           Borough     Neighbourhood\n0      M1A      Not assigned      Not assigned\n1      M2A      Not assigned      Not assigned\n2      M3A        North York         Parkwoods\n3      M4A        North York  Victoria Village\n4      M5A  Downtown Toronto      Harbourfront\n"
                }
            ], 
            "metadata": {}
        }, 
        {
            "source": "# i got rid of the rows where Borough = Not assigned \n\ndf=df[df.Borough != 'Not assigned']\ndf = df.sort_values(by=['Postcode','Borough'])\n\ndf.reset_index(inplace=True)\ndf.drop('index',axis=1,inplace=True)\n\nprint(df.shape)\nprint(df.head())", 
            "cell_type": "code", 
            "execution_count": 165, 
            "outputs": [
                {
                    "output_type": "stream", 
                    "name": "stdout", 
                    "text": "(211, 3)\n  Postcode      Borough   Neighbourhood\n0      M1B  Scarborough           Rouge\n1      M1B  Scarborough         Malvern\n2      M1C  Scarborough  Highland Creek\n3      M1C  Scarborough      Rouge Hill\n4      M1C  Scarborough      Port Union\n"
                }
            ], 
            "metadata": {}
        }, 
        {
            "source": "# here i combined the Neighborhoods with the same Postal\n\ndfNew = df.groupby(['Postcode', 'Borough'], sort=False).agg( ','.join)\ndfNew = dfNew.groupby(['Postcode','Borough'])['Neighbourhood'].apply(list)\ndfNew = dfNew.sample(frac=1).reset_index()\ndfNew['Neighbourhood']= dfNew['Neighbourhood'].str.join(', ')\ndfNew.head()\ndfNew.shape", 
            "cell_type": "code", 
            "execution_count": 166, 
            "outputs": [
                {
                    "output_type": "execute_result", 
                    "metadata": {}, 
                    "data": {
                        "text/plain": "(103, 3)"
                    }, 
                    "execution_count": 166
                }
            ], 
            "metadata": {}
        }, 
        {
            "source": "# here i replace the Neighbourhood = Not assigned with corresponding Borough value\n\ndfNew['Neighbourhood'].loc[dfNew['Neighbourhood'] == 'Not assigned'] = dfNew['Borough']\ndfNew", 
            "cell_type": "code", 
            "execution_count": 173, 
            "outputs": [
                {
                    "output_type": "execute_result", 
                    "metadata": {}, 
                    "data": {
                        "text/html": "<div>\n<style scoped>\n    .dataframe tbody tr th:only-of-type {\n        vertical-align: middle;\n    }\n\n    .dataframe tbody tr th {\n        vertical-align: top;\n    }\n\n    .dataframe thead th {\n        text-align: right;\n    }\n</style>\n<table border=\"1\" class=\"dataframe\">\n  <thead>\n    <tr style=\"text-align: right;\">\n      <th></th>\n      <th>Postcode</th>\n      <th>Borough</th>\n      <th>Neighbourhood</th>\n    </tr>\n  </thead>\n  <tbody>\n    <tr>\n      <th>0</th>\n      <td>M3H</td>\n      <td>North York</td>\n      <td>Bathurst Manor,Downsview North,Wilson Heights</td>\n    </tr>\n    <tr>\n      <th>1</th>\n      <td>M4P</td>\n      <td>Central Toronto</td>\n      <td>Davisville North</td>\n    </tr>\n    <tr>\n      <th>2</th>\n      <td>M1E</td>\n      <td>Scarborough</td>\n      <td>Guildwood,Morningside,West Hill</td>\n    </tr>\n    <tr>\n      <th>3</th>\n      <td>M5L</td>\n      <td>Downtown Toronto</td>\n      <td>Commerce Court,Victoria Hotel</td>\n    </tr>\n    <tr>\n      <th>4</th>\n      <td>M3A</td>\n      <td>North York</td>\n      <td>Parkwoods</td>\n    </tr>\n    <tr>\n      <th>5</th>\n      <td>M7Y</td>\n      <td>East Toronto</td>\n      <td>Business Reply Mail Processing Centre 969 Eastern</td>\n    </tr>\n    <tr>\n      <th>6</th>\n      <td>M4Y</td>\n      <td>Downtown Toronto</td>\n      <td>Church and Wellesley</td>\n    </tr>\n    <tr>\n      <th>7</th>\n      <td>M4J</td>\n      <td>East York</td>\n      <td>East Toronto</td>\n    </tr>\n    <tr>\n      <th>8</th>\n      <td>M5H</td>\n      <td>Downtown Toronto</td>\n      <td>Adelaide,King,Richmond</td>\n    </tr>\n    <tr>\n      <th>9</th>\n      <td>M5V</td>\n      <td>Downtown Toronto</td>\n      <td>CN Tower,Bathurst Quay,Island airport,Harbourf...</td>\n    </tr>\n    <tr>\n      <th>10</th>\n      <td>M4X</td>\n      <td>Downtown Toronto</td>\n      <td>Cabbagetown,St. James Town</td>\n    </tr>\n    <tr>\n      <th>11</th>\n      <td>M1B</td>\n      <td>Scarborough</td>\n      <td>Rouge,Malvern</td>\n    </tr>\n    <tr>\n      <th>12</th>\n      <td>M3L</td>\n      <td>North York</td>\n      <td>Downsview West</td>\n    </tr>\n    <tr>\n      <th>13</th>\n      <td>M5P</td>\n      <td>Central Toronto</td>\n      <td>Forest Hill North,Forest Hill West</td>\n    </tr>\n    <tr>\n      <th>14</th>\n      <td>M4A</td>\n      <td>North York</td>\n      <td>Victoria Village</td>\n    </tr>\n    <tr>\n      <th>15</th>\n      <td>M2M</td>\n      <td>North York</td>\n      <td>Newtonbrook,Willowdale</td>\n    </tr>\n    <tr>\n      <th>16</th>\n      <td>M4S</td>\n      <td>Central Toronto</td>\n      <td>Davisville</td>\n    </tr>\n    <tr>\n      <th>17</th>\n      <td>M4B</td>\n      <td>East York</td>\n      <td>Woodbine Gardens,Parkview Hill</td>\n    </tr>\n    <tr>\n      <th>18</th>\n      <td>M8W</td>\n      <td>Etobicoke</td>\n      <td>Alderwood,Long Branch</td>\n    </tr>\n    <tr>\n      <th>19</th>\n      <td>M1X</td>\n      <td>Scarborough</td>\n      <td>Upper Rouge</td>\n    </tr>\n    <tr>\n      <th>20</th>\n      <td>M1T</td>\n      <td>Scarborough</td>\n      <td>Clarks Corners,Sullivan,Tam O'Shanter</td>\n    </tr>\n    <tr>\n      <th>21</th>\n      <td>M2J</td>\n      <td>North York</td>\n      <td>Fairview,Henry Farm,Oriole</td>\n    </tr>\n    <tr>\n      <th>22</th>\n      <td>M4M</td>\n      <td>East Toronto</td>\n      <td>Studio District</td>\n    </tr>\n    <tr>\n      <th>23</th>\n      <td>M5M</td>\n      <td>North York</td>\n      <td>Bedford Park,Lawrence Manor East</td>\n    </tr>\n    <tr>\n      <th>24</th>\n      <td>M6J</td>\n      <td>West Toronto</td>\n      <td>Little Portugal,Trinity</td>\n    </tr>\n    <tr>\n      <th>25</th>\n      <td>M3B</td>\n      <td>North York</td>\n      <td>Don Mills North</td>\n    </tr>\n    <tr>\n      <th>26</th>\n      <td>M3J</td>\n      <td>North York</td>\n      <td>Northwood Park,York University</td>\n    </tr>\n    <tr>\n      <th>27</th>\n      <td>M1G</td>\n      <td>Scarborough</td>\n      <td>Woburn</td>\n    </tr>\n    <tr>\n      <th>28</th>\n      <td>M6A</td>\n      <td>North York</td>\n      <td>Lawrence Heights,Lawrence Manor</td>\n    </tr>\n    <tr>\n      <th>29</th>\n      <td>M2L</td>\n      <td>North York</td>\n      <td>Silver Hills,York Mills</td>\n    </tr>\n    <tr>\n      <th>...</th>\n      <td>...</td>\n      <td>...</td>\n      <td>...</td>\n    </tr>\n    <tr>\n      <th>73</th>\n      <td>M1C</td>\n      <td>Scarborough</td>\n      <td>Highland Creek,Rouge Hill,Port Union</td>\n    </tr>\n    <tr>\n      <th>74</th>\n      <td>M4L</td>\n      <td>East Toronto</td>\n      <td>The Beaches West,India Bazaar</td>\n    </tr>\n    <tr>\n      <th>75</th>\n      <td>M9V</td>\n      <td>Etobicoke</td>\n      <td>Albion Gardens,Beaumond Heights,Humbergate,Jam...</td>\n    </tr>\n    <tr>\n      <th>76</th>\n      <td>M6C</td>\n      <td>York</td>\n      <td>Humewood-Cedarvale</td>\n    </tr>\n    <tr>\n      <th>77</th>\n      <td>M1S</td>\n      <td>Scarborough</td>\n      <td>Agincourt</td>\n    </tr>\n    <tr>\n      <th>78</th>\n      <td>M1K</td>\n      <td>Scarborough</td>\n      <td>East Birchmount Park,Ionview,Kennedy Park</td>\n    </tr>\n    <tr>\n      <th>79</th>\n      <td>M1V</td>\n      <td>Scarborough</td>\n      <td>Agincourt North,L'Amoreaux East,Milliken,Steel...</td>\n    </tr>\n    <tr>\n      <th>80</th>\n      <td>M5G</td>\n      <td>Downtown Toronto</td>\n      <td>Central Bay Street</td>\n    </tr>\n    <tr>\n      <th>81</th>\n      <td>M7A</td>\n      <td>Queen's Park</td>\n      <td>Queen's Park</td>\n    </tr>\n    <tr>\n      <th>82</th>\n      <td>M3N</td>\n      <td>North York</td>\n      <td>Downsview Northwest</td>\n    </tr>\n    <tr>\n      <th>83</th>\n      <td>M5J</td>\n      <td>Downtown Toronto</td>\n      <td>Harbourfront East,Toronto Islands,Union Station</td>\n    </tr>\n    <tr>\n      <th>84</th>\n      <td>M2H</td>\n      <td>North York</td>\n      <td>Hillcrest Village</td>\n    </tr>\n    <tr>\n      <th>85</th>\n      <td>M3C</td>\n      <td>North York</td>\n      <td>Flemingdon Park,Don Mills South</td>\n    </tr>\n    <tr>\n      <th>86</th>\n      <td>M6E</td>\n      <td>York</td>\n      <td>Caledonia-Fairbanks</td>\n    </tr>\n    <tr>\n      <th>87</th>\n      <td>M4T</td>\n      <td>Central Toronto</td>\n      <td>Moore Park,Summerhill East</td>\n    </tr>\n    <tr>\n      <th>88</th>\n      <td>M1H</td>\n      <td>Scarborough</td>\n      <td>Cedarbrae</td>\n    </tr>\n    <tr>\n      <th>89</th>\n      <td>M4N</td>\n      <td>Central Toronto</td>\n      <td>Lawrence Park</td>\n    </tr>\n    <tr>\n      <th>90</th>\n      <td>M6P</td>\n      <td>West Toronto</td>\n      <td>High Park,The Junction South</td>\n    </tr>\n    <tr>\n      <th>91</th>\n      <td>M6N</td>\n      <td>York</td>\n      <td>The Junction North,Runnymede</td>\n    </tr>\n    <tr>\n      <th>92</th>\n      <td>M8Y</td>\n      <td>Etobicoke</td>\n      <td>Humber Bay,King's Mill Park,Kingsway Park Sout...</td>\n    </tr>\n    <tr>\n      <th>93</th>\n      <td>M5W</td>\n      <td>Downtown Toronto</td>\n      <td>Stn A PO Boxes 25 The Esplanade</td>\n    </tr>\n    <tr>\n      <th>94</th>\n      <td>M6S</td>\n      <td>West Toronto</td>\n      <td>Runnymede,Swansea</td>\n    </tr>\n    <tr>\n      <th>95</th>\n      <td>M4W</td>\n      <td>Downtown Toronto</td>\n      <td>Rosedale</td>\n    </tr>\n    <tr>\n      <th>96</th>\n      <td>M9M</td>\n      <td>North York</td>\n      <td>Emery,Humberlea</td>\n    </tr>\n    <tr>\n      <th>97</th>\n      <td>M9P</td>\n      <td>Etobicoke</td>\n      <td>Westmount</td>\n    </tr>\n    <tr>\n      <th>98</th>\n      <td>M5E</td>\n      <td>Downtown Toronto</td>\n      <td>Berczy Park</td>\n    </tr>\n    <tr>\n      <th>99</th>\n      <td>M2K</td>\n      <td>North York</td>\n      <td>Bayview Village</td>\n    </tr>\n    <tr>\n      <th>100</th>\n      <td>M6R</td>\n      <td>West Toronto</td>\n      <td>Parkdale,Roncesvalles</td>\n    </tr>\n    <tr>\n      <th>101</th>\n      <td>M6G</td>\n      <td>Downtown Toronto</td>\n      <td>Christie</td>\n    </tr>\n    <tr>\n      <th>102</th>\n      <td>M1W</td>\n      <td>Scarborough</td>\n      <td>L'Amoreaux West</td>\n    </tr>\n  </tbody>\n</table>\n<p>103 rows \u00d7 3 columns</p>\n</div>", 
                        "text/plain": "    Postcode           Borough  \\\n0        M3H        North York   \n1        M4P   Central Toronto   \n2        M1E       Scarborough   \n3        M5L  Downtown Toronto   \n4        M3A        North York   \n5        M7Y      East Toronto   \n6        M4Y  Downtown Toronto   \n7        M4J         East York   \n8        M5H  Downtown Toronto   \n9        M5V  Downtown Toronto   \n10       M4X  Downtown Toronto   \n11       M1B       Scarborough   \n12       M3L        North York   \n13       M5P   Central Toronto   \n14       M4A        North York   \n15       M2M        North York   \n16       M4S   Central Toronto   \n17       M4B         East York   \n18       M8W         Etobicoke   \n19       M1X       Scarborough   \n20       M1T       Scarborough   \n21       M2J        North York   \n22       M4M      East Toronto   \n23       M5M        North York   \n24       M6J      West Toronto   \n25       M3B        North York   \n26       M3J        North York   \n27       M1G       Scarborough   \n28       M6A        North York   \n29       M2L        North York   \n..       ...               ...   \n73       M1C       Scarborough   \n74       M4L      East Toronto   \n75       M9V         Etobicoke   \n76       M6C              York   \n77       M1S       Scarborough   \n78       M1K       Scarborough   \n79       M1V       Scarborough   \n80       M5G  Downtown Toronto   \n81       M7A      Queen's Park   \n82       M3N        North York   \n83       M5J  Downtown Toronto   \n84       M2H        North York   \n85       M3C        North York   \n86       M6E              York   \n87       M4T   Central Toronto   \n88       M1H       Scarborough   \n89       M4N   Central Toronto   \n90       M6P      West Toronto   \n91       M6N              York   \n92       M8Y         Etobicoke   \n93       M5W  Downtown Toronto   \n94       M6S      West Toronto   \n95       M4W  Downtown Toronto   \n96       M9M        North York   \n97       M9P         Etobicoke   \n98       M5E  Downtown Toronto   \n99       M2K        North York   \n100      M6R      West Toronto   \n101      M6G  Downtown Toronto   \n102      M1W       Scarborough   \n\n                                         Neighbourhood  \n0        Bathurst Manor,Downsview North,Wilson Heights  \n1                                     Davisville North  \n2                      Guildwood,Morningside,West Hill  \n3                        Commerce Court,Victoria Hotel  \n4                                            Parkwoods  \n5    Business Reply Mail Processing Centre 969 Eastern  \n6                                 Church and Wellesley  \n7                                         East Toronto  \n8                               Adelaide,King,Richmond  \n9    CN Tower,Bathurst Quay,Island airport,Harbourf...  \n10                          Cabbagetown,St. James Town  \n11                                       Rouge,Malvern  \n12                                      Downsview West  \n13                  Forest Hill North,Forest Hill West  \n14                                    Victoria Village  \n15                              Newtonbrook,Willowdale  \n16                                          Davisville  \n17                      Woodbine Gardens,Parkview Hill  \n18                               Alderwood,Long Branch  \n19                                         Upper Rouge  \n20               Clarks Corners,Sullivan,Tam O'Shanter  \n21                          Fairview,Henry Farm,Oriole  \n22                                     Studio District  \n23                    Bedford Park,Lawrence Manor East  \n24                             Little Portugal,Trinity  \n25                                     Don Mills North  \n26                      Northwood Park,York University  \n27                                              Woburn  \n28                     Lawrence Heights,Lawrence Manor  \n29                             Silver Hills,York Mills  \n..                                                 ...  \n73                Highland Creek,Rouge Hill,Port Union  \n74                       The Beaches West,India Bazaar  \n75   Albion Gardens,Beaumond Heights,Humbergate,Jam...  \n76                                  Humewood-Cedarvale  \n77                                           Agincourt  \n78           East Birchmount Park,Ionview,Kennedy Park  \n79   Agincourt North,L'Amoreaux East,Milliken,Steel...  \n80                                  Central Bay Street  \n81                                        Queen's Park  \n82                                 Downsview Northwest  \n83     Harbourfront East,Toronto Islands,Union Station  \n84                                   Hillcrest Village  \n85                     Flemingdon Park,Don Mills South  \n86                                 Caledonia-Fairbanks  \n87                          Moore Park,Summerhill East  \n88                                           Cedarbrae  \n89                                       Lawrence Park  \n90                        High Park,The Junction South  \n91                        The Junction North,Runnymede  \n92   Humber Bay,King's Mill Park,Kingsway Park Sout...  \n93                     Stn A PO Boxes 25 The Esplanade  \n94                                   Runnymede,Swansea  \n95                                            Rosedale  \n96                                     Emery,Humberlea  \n97                                           Westmount  \n98                                         Berczy Park  \n99                                     Bayview Village  \n100                              Parkdale,Roncesvalles  \n101                                           Christie  \n102                                    L'Amoreaux West  \n\n[103 rows x 3 columns]"
                    }, 
                    "execution_count": 173
                }
            ], 
            "metadata": {}
        }, 
        {
            "source": "", 
            "cell_type": "code", 
            "execution_count": null, 
            "outputs": [], 
            "metadata": {}
        }
    ], 
    "nbformat": 4, 
    "metadata": {
        "kernelspec": {
            "display_name": "Python 3.6", 
            "name": "python3", 
            "language": "python"
        }, 
        "language_info": {
            "mimetype": "text/x-python", 
            "nbconvert_exporter": "python", 
            "version": "3.6.8", 
            "name": "python", 
            "pygments_lexer": "ipython3", 
            "file_extension": ".py", 
            "codemirror_mode": {
                "version": 3, 
                "name": "ipython"
            }
        }
    }
}